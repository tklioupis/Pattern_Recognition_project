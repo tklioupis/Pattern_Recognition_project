{
 "cells": [
  {
   "cell_type": "code",
   "execution_count": 9,
   "id": "703e0ff8",
   "metadata": {},
   "outputs": [],
   "source": [
    "#imports\n",
    "#!pip install numpy \n",
    "#!pip install matplotlib\n",
    "#!pip install scipy\n",
    "import math\n",
    "import numpy as np\n",
    "import matplotlib.pyplot as plt\n",
    "from scipy.stats import multivariate_normal\n",
    "from mpl_toolkits.mplot3d import axes3d\n",
    "\n",
    "#data given for part A\n",
    "m1 = [0.4,0.8] #the mean values of the 2 indeces for P(x|w1)\n",
    "m2 = [1.5,2.7] #the mean values of the 2 indeces for P(x|w2)\n",
    "\n",
    "S = np.array([1.5,0,0,0.8]) #The covariance table-1D of the 2 indeces, same for p(x|w1) an p(x|w2)\n",
    "S = S.reshape(2,2) #The covariance table-2D\n",
    "var1 = S[0,0] #variance of index 1, same for p(x|w1) an p(x|w2)\n",
    "var2 = S[1,1] #variance of index 2, same for p(x|w1) an p(x|w2)\n",
    "s1 = math.sqrt(var1) #std of index 1, same for p(x|w1) an p(x|w2)\n",
    "s2 = math.sqrt(var2) #std of index 2, same for p(x|w1) an p(x|w2)\n",
    "\n",
    "p_w1 = 0.95 #P(w1)\n",
    "p_w2 = 0.05 #P(w2)"
   ]
  },
  {
   "cell_type": "code",
   "execution_count": null,
   "id": "fcf72b6f",
   "metadata": {},
   "outputs": [],
   "source": [
    "#2D NORMAL DIST\n",
    "# Prepare your data\n",
    "x = np.linspace(-7.5, 7.5, 200)\n",
    "y = np.linspace(-7.5, 7.5, 200)\n",
    "X, Y = np.meshgrid(x,y)\n",
    "rv = multivariate_normal(m1,S)\n",
    "pos = np.empty(X.shape + (2,))\n",
    "pos[:, :, 0] = X\n",
    "pos[:, :, 1] = Y\n",
    "pd = rv.pdf(pos)\n",
    "\n",
    "fig = plt.figure()\n",
    "ax = fig.add_subplot(projection='3d')\n",
    "\n",
    "ax.plot_surface(X, Y, pd, rstride=2, cstride=2, alpha=0.4, cmap=plt.cm.coolwarm)\n",
    "cset = ax.contourf(X, Y, pd, zdir='x', offset=-4, cmap=plt.cm.coolwarm)\n",
    "cset = ax.contourf(X, Y, pd, zdir='y', offset=4, cmap=plt.cm.coolwarm)\n",
    "\n",
    "ax.set_xlabel('X')\n",
    "ax.set_ylabel('Y')\n",
    "ax.set_zlabel('Z')"
   ]
  },
  {
   "cell_type": "code",
   "execution_count": 4,
   "id": "e909d576",
   "metadata": {},
   "outputs": [
    {
     "name": "stdout",
     "output_type": "stream",
     "text": [
      "[0.  0.5 1. ]\n",
      "[0. 1.]\n",
      "[[0.  0.5 1. ]\n",
      " [0.  0.5 1. ]]\n",
      "[[0. 0. 0.]\n",
      " [1. 1. 1.]]\n"
     ]
    }
   ],
   "source": [
    "x = np.linspace(0, 1, 3)\n",
    "y = np.linspace(0, 1, 2)\n",
    "xv, yv = np.meshgrid(x, y)\n",
    "print(x)\n",
    "print(y)\n",
    "print(xv)\n",
    "print(yv)"
   ]
  },
  {
   "cell_type": "code",
   "execution_count": 16,
   "id": "4c506f92",
   "metadata": {},
   "outputs": [
    {
     "name": "stdout",
     "output_type": "stream",
     "text": [
      "(200,)\n",
      "(200,)\n",
      "(200, 200)\n",
      "(200, 200)\n",
      "(200, 200, 2)\n"
     ]
    }
   ],
   "source": [
    "start_point = -5 #beginning of interval\n",
    "end_point = 5 #ending of interval\n",
    "step = 0.05\n",
    "length_of_data = int((end_point-start_point)/step)\n",
    "x1 = np.linspace(start_point, end_point, length_of_data)\n",
    "x2 = np.linspace(start_point, end_point, length_of_data)\n",
    "print(np.shape(x1))\n",
    "print(np.shape(x2))\n",
    "x1, x2 = np.meshgrid(x1,x2)\n",
    "print(np.shape(x1))\n",
    "print(np.shape(x2))\n",
    "pos = np.empty(x1.shape + (2,))\n",
    "print(np.shape(pos))\n",
    "pos[:, :, 0] = x1\n",
    "pos[:, :, 1] = x2\n",
    "#calculating p(x|w1) and p(x|w2)\n",
    "pdf_x_w1 = multivariate_normal.pdf(pos,m1,S)\n",
    "pdf_x_w2 = multivariate_normal.pdf(pos,m2,S)"
   ]
  },
  {
   "cell_type": "code",
   "execution_count": null,
   "id": "118874dd",
   "metadata": {},
   "outputs": [],
   "source": []
  },
  {
   "cell_type": "code",
   "execution_count": null,
   "id": "8dcf3e87",
   "metadata": {},
   "outputs": [],
   "source": []
  }
 ],
 "metadata": {
  "kernelspec": {
   "display_name": "Python 3 (ipykernel)",
   "language": "python",
   "name": "python3"
  },
  "language_info": {
   "codemirror_mode": {
    "name": "ipython",
    "version": 3
   },
   "file_extension": ".py",
   "mimetype": "text/x-python",
   "name": "python",
   "nbconvert_exporter": "python",
   "pygments_lexer": "ipython3",
   "version": "3.10.6"
  }
 },
 "nbformat": 4,
 "nbformat_minor": 5
}
