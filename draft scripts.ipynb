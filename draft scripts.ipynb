{
 "cells": [
  {
   "cell_type": "code",
   "execution_count": null,
   "id": "fcf72b6f",
   "metadata": {},
   "outputs": [],
   "source": [
    "#2D NORMAL DIST\n",
    "# Prepare your data\n",
    "x = np.linspace(-7.5, 7.5, 200)\n",
    "y = np.linspace(-7.5, 7.5, 200)\n",
    "X, Y = np.meshgrid(x,y)\n",
    "rv = multivariate_normal(m1,S)\n",
    "pos = np.empty(X.shape + (2,))\n",
    "pos[:, :, 0] = X\n",
    "pos[:, :, 1] = Y\n",
    "pd = rv.pdf(pos)\n",
    "\n",
    "fig = plt.figure()\n",
    "ax = fig.add_subplot(projection='3d')\n",
    "\n",
    "ax.plot_surface(X, Y, pd, rstride=2, cstride=2, alpha=0.4, cmap=plt.cm.coolwarm)\n",
    "cset = ax.contourf(X, Y, pd, zdir='x', offset=-4, cmap=plt.cm.coolwarm)\n",
    "cset = ax.contourf(X, Y, pd, zdir='y', offset=4, cmap=plt.cm.coolwarm)\n",
    "\n",
    "ax.set_xlabel('X')\n",
    "ax.set_ylabel('Y')\n",
    "ax.set_zlabel('Z')"
   ]
  }
 ],
 "metadata": {
  "kernelspec": {
   "display_name": "Python 3 (ipykernel)",
   "language": "python",
   "name": "python3"
  },
  "language_info": {
   "codemirror_mode": {
    "name": "ipython",
    "version": 3
   },
   "file_extension": ".py",
   "mimetype": "text/x-python",
   "name": "python",
   "nbconvert_exporter": "python",
   "pygments_lexer": "ipython3",
   "version": "3.10.6"
  }
 },
 "nbformat": 4,
 "nbformat_minor": 5
}
